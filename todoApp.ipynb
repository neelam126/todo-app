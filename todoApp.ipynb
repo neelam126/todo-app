{
  "nbformat": 4,
  "nbformat_minor": 0,
  "metadata": {
    "colab": {
      "provenance": [],
      "authorship_tag": "ABX9TyOV1EmbF2bE7ojDPxUB+9vh",
      "include_colab_link": true
    },
    "kernelspec": {
      "name": "python3",
      "display_name": "Python 3"
    },
    "language_info": {
      "name": "python"
    }
  },
  "cells": [
    {
      "cell_type": "markdown",
      "metadata": {
        "id": "view-in-github",
        "colab_type": "text"
      },
      "source": [
        "<a href=\"https://colab.research.google.com/github/neelam126/todo-app/blob/main/todoApp.ipynb\" target=\"_parent\"><img src=\"https://colab.research.google.com/assets/colab-badge.svg\" alt=\"Open In Colab\"/></a>"
      ]
    },
    {
      "cell_type": "code",
      "execution_count": null,
      "metadata": {
        "id": "4HGF0QGvXuZ6"
      },
      "outputs": [],
      "source": [
        "import streamlit as st\n",
        "\n",
        "# Initialize the session state to store tasks\n",
        "if 'tasks' not in st.session_state:\n",
        "    st.session_state['tasks'] = []\n",
        "\n",
        "# Title of the app\n",
        "st.title(\"Simple To-Do List App\")\n",
        "\n",
        "# Input box to add new tasks\n",
        "new_task = st.text_input(\"Add a new task:\", \"\")\n",
        "if st.button(\"Add Task\"):\n",
        "    if new_task.strip():  # Check if the input is not empty\n",
        "        st.session_state.tasks.append(new_task.strip())\n",
        "        st.success(f\"Task added: {new_task}\")\n",
        "    else:\n",
        "        st.error(\"Please enter a valid task.\")\n",
        "\n",
        "# Display the tasks\n",
        "st.subheader(\"Your Tasks:\")\n",
        "if st.session_state.tasks:\n",
        "    for i, task in enumerate(st.session_state.tasks):\n",
        "        col1, col2 = st.columns([0.8, 0.2])\n",
        "        with col1:\n",
        "            st.write(f\"{i+1}. {task}\")\n",
        "        with col2:\n",
        "            if st.button(\"Remove\", key=f\"remove_{i}\"):\n",
        "                st.session_state.tasks.pop(i)\n",
        "                st.experimental_rerun()  # Refresh the app to update the task list\n",
        "else:\n",
        "    st.write(\"No tasks added yet.\")\n"
      ]
    }
  ]
}